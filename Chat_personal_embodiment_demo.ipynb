{
  "cells": [
    {
      "cell_type": "markdown",
      "source": [],
      "metadata": {
        "id": "Il9CCewT1DUk"
      }
    },
    {
      "cell_type": "markdown",
      "metadata": {
        "id": "gOJkH-EiXP0o"
      },
      "source": [
        "# 数字个人化身 Chat-personal-embodiment\n",
        "\n",
        "[![Code License](https://img.shields.io/badge/Code%20License-Apache_2.0-green.svg)]()\n",
        "[![Data License](https://img.shields.io/badge/Data%20License-CC%20By%20NC%204.0-red.svg)]()\n",
        "\n",
        "\n",
        "[数字个人化身项目](https://github.com/hhhwmws0117/Chat-personal-embodiment)由[Chat凉宫春日项目](https://github.com/LC1332/Chat-Haruhi-Suzumiya.git)中的在读学生组建，组队参加星火杯比赛的支线任务,对接讯飞星火大模型，独立推进本项目工作。\n",
        "\n",
        "本项目由[米唯实清华大学](https://github.com/hhhwmws0117)，[詹林康@凯斯西储大学](https://github.com/JunityZhan)，[闫晨曦@成都信息工程大学](https://github.com/todochenxi)，[沈骏一@浙江大学](https://github.com/J1shen)，[孙浩甄@天津大学](https://github.com/JcandZero)开发。"
      ]
    },
    {
      "cell_type": "markdown",
      "metadata": {
        "id": "lUb8Izg2XRSD"
      },
      "source": [
        "这个脚本可以直接运行多人物角色的gradio客户端\n",
        "\n",
        "并且可以进行两个不同人物之间的对话和对话分析"
      ]
    },
    {
      "cell_type": "code",
      "execution_count": null,
      "metadata": {
        "id": "RPPgMED8WhVF"
      },
      "outputs": [],
      "source": [
        "!pip -q install transformers gradio openai tiktoken langchain"
      ]
    },
    {
      "cell_type": "code",
      "execution_count": null,
      "metadata": {
        "id": "f-4HOTbe3Vc2"
      },
      "outputs": [],
      "source": [
        "!pip -q install jsonlines"
      ]
    },
    {
      "cell_type": "markdown",
      "metadata": {
        "id": "FOHwasoRUppo"
      },
      "source": [
        "**在这里输入你的星火大模型API配置**\n",
        "\n",
        "暂未实现，请修改https://github.com/hhhwmws0117/Chat-personal-embodiment/blob/main/src_reform/baichuanAgent.py 中配置文件"
      ]
    },
    {
      "cell_type": "code",
      "execution_count": null,
      "metadata": {
        "id": "zcPGpSm_Uot4"
      },
      "outputs": [],
      "source": [
        "import os\n",
        "\n",
        "os.environ[\"XINGHUO_APPID\"] = \"sk-hflw\"\n",
        "os.environ[\"XINGHUO_APISecret\"] = \"sk-hflw\"\n",
        "os.environ[\"XINGHUO_APIKey\"] = \"sk-hflw\""
      ]
    },
    {
      "cell_type": "code",
      "execution_count": null,
      "metadata": {
        "id": "oDO1lO-MWZ9A"
      },
      "outputs": [],
      "source": [
        "!git clone https://github.com/hhhwmws0117/Chat-personal-embodiment.git"
      ]
    },
    {
      "cell_type": "code",
      "execution_count": null,
      "metadata": {
        "id": "z0eATbMrWfYe"
      },
      "outputs": [],
      "source": [
        "%cd Chat-personal-embodiment/src_reform"
      ]
    },
    {
      "cell_type": "markdown",
      "metadata": {
        "id": "Iwzu4Pm9aNul"
      },
      "source": [
        "\n",
        "**TODO将端改为同时多个人可以使用，在server中加入多ChatGPT实例**\n",
        "\n",
        "目前gradio出的链接只适合单人使用"
      ]
    },
    {
      "cell_type": "code",
      "execution_count": null,
      "metadata": {
        "id": "DY4j7sMxWtHM"
      },
      "outputs": [],
      "source": [
        "!python gradioServer.py"
      ]
    },
    {
      "cell_type": "code",
      "execution_count": null,
      "metadata": {
        "id": "3IHZldXQWwOn"
      },
      "outputs": [],
      "source": []
    }
  ],
  "metadata": {
    "colab": {
      "provenance": []
    },
    "kernelspec": {
      "display_name": "Python 3",
      "name": "python3"
    },
    "language_info": {
      "name": "python"
    }
  },
  "nbformat": 4,
  "nbformat_minor": 0
}