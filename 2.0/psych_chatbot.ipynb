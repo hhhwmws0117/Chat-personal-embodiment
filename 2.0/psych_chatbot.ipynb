{
  "nbformat": 4,
  "nbformat_minor": 0,
  "metadata": {
    "colab": {
      "provenance": [],
      "authorship_tag": "ABX9TyPzZOiNvQhLytWgHJ7G68My",
      "include_colab_link": true
    },
    "kernelspec": {
      "name": "python3",
      "display_name": "Python 3"
    },
    "language_info": {
      "name": "python"
    }
  },
  "cells": [
    {
      "cell_type": "markdown",
      "metadata": {
        "id": "view-in-github",
        "colab_type": "text"
      },
      "source": [
        "<a href=\"https://colab.research.google.com/github/hhhwmws0117/Chat-personal-embodiment/blob/main/2.0/psych_chatbot.ipynb\" target=\"_parent\"><img src=\"https://colab.research.google.com/assets/colab-badge.svg\" alt=\"Open In Colab\"/></a>"
      ]
    },
    {
      "cell_type": "code",
      "execution_count": null,
      "metadata": {
        "id": "8ZBx6doFLngH"
      },
      "outputs": [],
      "source": [
        "!pip install chatharuhi datasets\n",
        "!pip -q install transformers openai tiktoken langchain chromadb"
      ]
    },
    {
      "cell_type": "code",
      "source": [
        "import os\n",
        "import openai\n",
        "openai.api_key = \"sk-l49eQftHXHq4dP\""
      ],
      "metadata": {
        "id": "O3s-epVQL_4z"
      },
      "execution_count": 10,
      "outputs": []
    },
    {
      "cell_type": "code",
      "source": [
        "def chat_psychologist(system_prompt, basic_question_list, basic_choice_list, psych_question_list, psych_choice_list, model=\"gpt-3.5-turbo\", dialogue_example = \"\"):\n",
        "  # basic_choice_list = [\"回答1\", \"回答2\", \"回答3\"]\n",
        "  # basic_question_list = [\"问题1\", \"问题2\", \"问题3\"]\n",
        "  # system_prompt = \"我想让你扮演一个心理测量专家，请针对你的心理被测对象的基本特征和一些对于基本心里问题的回答进行工作,你面对的心理被测对象是一个具有如下基本特征的人：\\n\"\n",
        "  basic_result = \"\"\n",
        "  psych_result = \"\"\n",
        "\n",
        "  for i in range(len(basic_question_list)):\n",
        "      basic_result += f\"在 {basic_question_list[i]} 方面，被测者是 {basic_choice_list[i]}\\n\"\n",
        "\n",
        "  # print(basic_result)\n",
        "  prompt_link = \"以下是你已经对于被测者进行的一些测试和被测者的回答：\\n\"\n",
        "\n",
        "  for i in range(len(psych_question_list)):\n",
        "      psych_result += f\"对于 {psych_question_list[i]} 问题，被测者的回答是 {psych_choice_list[i]}\\n\"\n",
        "\n",
        "  prompt_control = \"请你根据以上信息进行心理测试，任务是模仿上述已经问过的问题给出你要问的下一个问题和三个你预设对方会回答的答案。\\n请以 **一个bullet** 的形式进行返回，该bullet有四项，第一项是下一个问题，后三项分别是你预设的回答。\\n例如：- 你对于小事是怎样的态度？\\n- 我会记住每一件小事\\n- 我对于小事并不在意\\n- 我会记住让我受触动的小事\\n\"\n",
        "  prompt = system_prompt + basic_result + prompt_link + psych_result + prompt_control\n",
        "\n",
        "  messages = [{\"role\": \"user\", \"content\": prompt}]\n",
        "  response = openai.ChatCompletion.create(\n",
        "      model=model,\n",
        "      messages=messages,\n",
        "      temperature=0,\n",
        "  )\n",
        "\n",
        "  # print(prompt)\n",
        "  result_bullet = response.choices[0].message[\"content\"]\n",
        "  bullet_lines = result_bullet.split('\\n')  # 将bullet分割为多行\n",
        "\n",
        "  empty_line_index = len(bullet_lines)  # 初始化第一个空行的索引为最后一行\n",
        "\n",
        "  # 找到第一个空行的索引\n",
        "  for index, line in enumerate(bullet_lines):\n",
        "      if line.strip() == '':\n",
        "          empty_line_index = index\n",
        "          break\n",
        "\n",
        "  # 删除第一行的前缀，并去除首尾空格\n",
        "  first_line = bullet_lines[0].lstrip('- ').strip()\n",
        "\n",
        "  # 删除后三行的前缀，并去除首尾空格，存储在列表中\n",
        "  remaining_lines = [line.lstrip('- ').strip() for line in bullet_lines[1:empty_line_index]]\n",
        "\n",
        "  return first_line, remaining_lines\n",
        "\n",
        "\n",
        "\n"
      ],
      "metadata": {
        "id": "FhY4IJJbMIoJ"
      },
      "execution_count": 18,
      "outputs": []
    },
    {
      "cell_type": "code",
      "source": [
        "basic_question_list = [\"昵称\", \"生日\", \"性别\", \"行业/职业\", \"学校/企业\", \"爱好\"]\n",
        "basic_choice_list = [\"米唯实\", \"2001年1月17日\", \"男\", \"学生\", \"清华大学\", \"篮球/阅读/音乐\"]\n",
        "\n",
        "psych_system_prompt = \"你是一个心理测量专家，请针对你的心理被测对象的基本特征和一些对于基本心里问题的回答进行工作,你面对的心理被测对象是一个具有如下基本特征的人：\\n\"\n",
        "psych_question_list = [\"你更喜欢被认为是一个什么样的人？\", \"在很熟悉的朋友眼中你是一个怎样的人？\", \"在说话时，你更看重什么方面？\", \"选择你比较喜欢追求的东西\", \"在工作上，你表现出来更多的是什么角色\"]\n",
        "psych_choice_list = [\"坚决的，不轻易心软的人\", \"会帮助朋友做符合逻辑的决定\", \"人际感受，有时可能不愿讲真话\", \"捕捉生命中的精彩点滴\", \"充满热忱，有很多想法很有灵性\"]\n",
        "first_line, remaining_lines = chat_psychologist(psych_system_prompt, basic_question_list, basic_choice_list, psych_question_list, psych_choice_list)\n",
        "print(first_line)\n",
        "print(remaining_lines)\n"
      ],
      "metadata": {
        "colab": {
          "base_uri": "https://localhost:8080/"
        },
        "id": "nA5XxADmtrRD",
        "outputId": "489f12c1-9f71-42c6-b1b2-c9bf7f894edb"
      },
      "execution_count": 19,
      "outputs": [
        {
          "output_type": "stream",
          "name": "stdout",
          "text": [
            "你对于朋友的重要性是怎样的？\n",
            "['朋友对我来说非常重要，我会尽力帮助他们', '朋友对我来说不是特别重要，我更注重自己的事情', '朋友对我来说很重要，但我也会保留一些私人空间']\n"
          ]
        }
      ]
    }
  ]
}
