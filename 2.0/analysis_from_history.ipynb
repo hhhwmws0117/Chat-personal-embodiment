{
  "nbformat": 4,
  "nbformat_minor": 0,
  "metadata": {
    "colab": {
      "provenance": [],
      "authorship_tag": "ABX9TyPpaMFMv8+yoJvgpnyK2e4d",
      "include_colab_link": true
    },
    "kernelspec": {
      "name": "python3",
      "display_name": "Python 3"
    },
    "language_info": {
      "name": "python"
    }
  },
  "cells": [
    {
      "cell_type": "markdown",
      "metadata": {
        "id": "view-in-github",
        "colab_type": "text"
      },
      "source": [
        "<a href=\"https://colab.research.google.com/github/hhhwmws0117/Chat-personal-embodiment/blob/main/2.0/analysis_from_history.ipynb\" target=\"_parent\"><img src=\"https://colab.research.google.com/assets/colab-badge.svg\" alt=\"Open In Colab\"/></a>"
      ]
    },
    {
      "cell_type": "code",
      "execution_count": 1,
      "metadata": {
        "id": "mgXzbuf8ZjrX",
        "colab": {
          "base_uri": "https://localhost:8080/"
        },
        "outputId": "fc5b89de-6e81-47e0-e2f6-77490b48189c"
      },
      "outputs": [
        {
          "output_type": "stream",
          "name": "stdout",
          "text": [
            "Collecting openai\n",
            "  Downloading openai-0.28.0-py3-none-any.whl (76 kB)\n",
            "\u001b[?25l     \u001b[90m━━━━━━━━━━━━━━━━━━━━━━━━━━━━━━━━━━━━━━━━\u001b[0m \u001b[32m0.0/76.5 kB\u001b[0m \u001b[31m?\u001b[0m eta \u001b[36m-:--:--\u001b[0m\r\u001b[2K     \u001b[91m━━━━━━━━━━━━━━━━━━━━━━━━━━━━━━━━━━━━━\u001b[0m\u001b[90m╺\u001b[0m\u001b[90m━━\u001b[0m \u001b[32m71.7/76.5 kB\u001b[0m \u001b[31m2.2 MB/s\u001b[0m eta \u001b[36m0:00:01\u001b[0m\r\u001b[2K     \u001b[90m━━━━━━━━━━━━━━━━━━━━━━━━━━━━━━━━━━━━━━━━\u001b[0m \u001b[32m76.5/76.5 kB\u001b[0m \u001b[31m1.8 MB/s\u001b[0m eta \u001b[36m0:00:00\u001b[0m\n",
            "\u001b[?25hRequirement already satisfied: requests>=2.20 in /usr/local/lib/python3.10/dist-packages (from openai) (2.31.0)\n",
            "Requirement already satisfied: tqdm in /usr/local/lib/python3.10/dist-packages (from openai) (4.66.1)\n",
            "Requirement already satisfied: aiohttp in /usr/local/lib/python3.10/dist-packages (from openai) (3.8.5)\n",
            "Requirement already satisfied: charset-normalizer<4,>=2 in /usr/local/lib/python3.10/dist-packages (from requests>=2.20->openai) (3.2.0)\n",
            "Requirement already satisfied: idna<4,>=2.5 in /usr/local/lib/python3.10/dist-packages (from requests>=2.20->openai) (3.4)\n",
            "Requirement already satisfied: urllib3<3,>=1.21.1 in /usr/local/lib/python3.10/dist-packages (from requests>=2.20->openai) (2.0.4)\n",
            "Requirement already satisfied: certifi>=2017.4.17 in /usr/local/lib/python3.10/dist-packages (from requests>=2.20->openai) (2023.7.22)\n",
            "Requirement already satisfied: attrs>=17.3.0 in /usr/local/lib/python3.10/dist-packages (from aiohttp->openai) (23.1.0)\n",
            "Requirement already satisfied: multidict<7.0,>=4.5 in /usr/local/lib/python3.10/dist-packages (from aiohttp->openai) (6.0.4)\n",
            "Requirement already satisfied: async-timeout<5.0,>=4.0.0a3 in /usr/local/lib/python3.10/dist-packages (from aiohttp->openai) (4.0.3)\n",
            "Requirement already satisfied: yarl<2.0,>=1.0 in /usr/local/lib/python3.10/dist-packages (from aiohttp->openai) (1.9.2)\n",
            "Requirement already satisfied: frozenlist>=1.1.1 in /usr/local/lib/python3.10/dist-packages (from aiohttp->openai) (1.4.0)\n",
            "Requirement already satisfied: aiosignal>=1.1.2 in /usr/local/lib/python3.10/dist-packages (from aiohttp->openai) (1.3.1)\n",
            "Installing collected packages: openai\n",
            "Successfully installed openai-0.28.0\n"
          ]
        }
      ],
      "source": [
        "!pip install openai"
      ]
    },
    {
      "cell_type": "code",
      "source": [
        "import openai\n",
        "import os\n",
        "os.environ[\"OPENAI_API_KEY\"] = \"sk-l49eQftHxAPXSXHq4dP\"\n",
        "openai.api_key = os.getenv(\"OPENAI_API_KEY\")"
      ],
      "metadata": {
        "id": "lpzC_liYaHqS"
      },
      "execution_count": 2,
      "outputs": []
    },
    {
      "cell_type": "code",
      "source": [
        "combined_string = \"\"\n",
        "chat_history = [('阿虚:「Haruhi, 你好啊」', '春日:「哦，你好。有什么事吗？」'), ('阿虚:「同学，请自我介绍一下」',  '春日:「我毕业于东中，叫做凉宫春日。我对普通的人类没有兴趣，如果你们中有外星人，未来人，异世界的人或者超能力者的话，就尽管来找我吧！以上。」')]\n",
        "for tup in chat_history:\n",
        "  for string in tup:\n",
        "    combined_string += string + \"\\n\""
      ],
      "metadata": {
        "id": "nnBFhAXFC8dh"
      },
      "execution_count": 3,
      "outputs": []
    },
    {
      "cell_type": "code",
      "source": [
        "combined_string"
      ],
      "metadata": {
        "colab": {
          "base_uri": "https://localhost:8080/",
          "height": 52
        },
        "id": "VnH_x1X6C_UP",
        "outputId": "b02655f7-d000-4103-cd19-1a6e897af247"
      },
      "execution_count": 5,
      "outputs": [
        {
          "output_type": "execute_result",
          "data": {
            "text/plain": [
              "'阿虚:「Haruhi, 你好啊」\\n春日:「哦，你好。有什么事吗？」\\n老师:「同学，请自我介绍一下」\\n春日:「我毕业于东中，叫做凉宫春日。我对普通的人类没有兴趣，如果你们中有外星人，未来人，异世界的人或者超能力者的话，就尽管来找我吧！以上。」\\n'"
            ],
            "application/vnd.google.colaboratory.intrinsic+json": {
              "type": "string"
            }
          },
          "metadata": {},
          "execution_count": 5
        }
      ]
    },
    {
      "cell_type": "code",
      "source": [
        "def analysis_from_history(role_name_1, role_name_2, chat_history):\n",
        "\n",
        "  combined_string = \"\"\n",
        "  for tup in chat_history:\n",
        "    for string in tup:\n",
        "      combined_string += string + \"\\n\"\n",
        "  prompt_1 = \"假设你是一个人类情感与性格分析师，我将给你两个人的对话，请尝试从以下对话中分析并阐述对话中出现的\" + role_name_1 + \"的情感、性格特点、mbti人格。并判断对话的两个人是否有可能成为朋友或者恋人。对话：\" + combined_string\n",
        "  prompt_2 = \"假设你是一个人类情感与性格分析师，我将给你两个人的对话，请尝试从以下对话中分析并阐述对话中出现的\" + role_name_2 + \"的情感、性格特点、mbti人格。并判断对话的两个人是否有可能成为朋友或者恋人。对话：\" + combined_string\n",
        "\n",
        "\n",
        "  messages = [{\"role\": \"user\", \"content\": prompt_1}]\n",
        "  response_1 = openai.ChatCompletion.create(\n",
        "      model=\"gpt-3.5-turbo\",\n",
        "      messages=messages,\n",
        "      temperature=0,\n",
        "  )\n",
        "  messages = [{\"role\": \"user\", \"content\": prompt_2}]\n",
        "  response_2 = openai.ChatCompletion.create(\n",
        "      model=\"gpt-3.5-turbo\",\n",
        "      messages=messages,\n",
        "      temperature=0,\n",
        "  )\n",
        "  result_1 = response_1.choices[0].message[\"content\"]\n",
        "  result_2 = response_2.choices[0].message[\"content\"]\n",
        "\n",
        "  return result_1, result_2\n"
      ],
      "metadata": {
        "id": "5RIQbWPAarub"
      },
      "execution_count": 13,
      "outputs": []
    },
    {
      "cell_type": "code",
      "source": [
        "result_1, result_2 = analysis_from_history(\"阿虚\", \"春日\", chat_history)\n"
      ],
      "metadata": {
        "id": "XJ7he1UnKo5X"
      },
      "execution_count": 14,
      "outputs": []
    },
    {
      "cell_type": "code",
      "source": [
        "print(result_1)\n",
        "print(result_2)\n"
      ],
      "metadata": {
        "colab": {
          "base_uri": "https://localhost:8080/"
        },
        "id": "5dS3T_xoPciv",
        "outputId": "9d52c9e8-65f0-41f7-8a8b-3549c836996b"
      },
      "execution_count": 15,
      "outputs": [
        {
          "output_type": "stream",
          "name": "stdout",
          "text": [
            "从对话中可以分析出阿虚的情感特点是友好和好奇，他主动打招呼并询问对方是否有什么事。他还表达了对对方的兴趣，并希望对方能自我介绍。阿虚的性格特点可能是开放和善于交际，他愿意主动与他人建立联系并了解对方。\n",
            "\n",
            "根据对话中的描述，阿虚可能具有外向的性格特点。他对不同于普通人类的存在表现出兴趣，并希望能与他们接触。这可能表明他对新奇和不同的事物有好奇心，愿意接受和了解不同的人和事物。\n",
            "\n",
            "根据对话中的信息，很难判断阿虚的MBTI人格类型。然而，他的友好和好奇心可能表明他可能是一个外向感知者（EP）或外向判断者（EJ）。\n",
            "\n",
            "关于对话中的两个人是否有可能成为朋友或恋人，可以初步判断他们可能成为朋友。阿虚主动与春日建立联系，并表达了对春日的兴趣。春日对阿虚的提问也没有表现出拒绝或不感兴趣的态度。然而，要判断他们是否有可能成为恋人，还需要更多的信息和交流来了解彼此的兴趣、价值观和相容性。\n",
            "从对话中可以分析出春日的情感特点是冷漠和不感兴趣。她对阿虚的打招呼没有表现出热情或者友好的态度，而是简单地回答了一个问题。这表明她可能对人际关系不太感兴趣，或者对与普通人交流没有太多的兴趣。\n",
            "\n",
            "春日的性格特点可以看出她是一个独立和自信的人。她自我介绍时强调自己对普通人没有兴趣，而对于外星人、未来人、异世界的人或者超能力者有兴趣。这表明她有自己独特的兴趣和想法，并且可能对非传统的事物更感兴趣。\n",
            "\n",
            "根据对话中的信息，很难确定春日的MBTI人格类型。然而，她的冷漠和对非传统事物的兴趣可能与INTP（理性主义者）或者INTJ（架构师）类型相符合。这两种类型的人通常独立思考，对于抽象的概念和理论感兴趣。\n",
            "\n",
            "根据对话中的信息，很难确定阿虚的情感、性格特点和MBTI人格类型。他只是简单地打招呼并询问春日是否愿意自我介绍，没有透露太多关于自己的信息。\n",
            "\n",
            "根据对话中的信息，春日和阿虚之间可能不太可能成为朋友或者恋人。春日对普通人没有兴趣，而阿虚似乎是一个普通的人。他们的兴趣和态度可能不太相符合，这可能导致他们之间的交流和理解上的困难。然而，这只是根据对话中的信息进行的初步分析，实际情况可能有所不同。\n"
          ]
        }
      ]
    }
  ]
}
